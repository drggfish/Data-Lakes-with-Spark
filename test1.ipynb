{
 "cells": [
  {
   "cell_type": "code",
   "execution_count": 4,
   "metadata": {},
   "outputs": [],
   "source": [
    "\n",
    "import configparser\n",
    "from datetime import datetime\n",
    "import os\n",
    "from pyspark.sql import SparkSession\n",
    "from pyspark.sql.functions import udf, col\n",
    "from pyspark.sql.functions import year, month, dayofmonth, hour, weekofyear, date_format, dayofweek, monotonically_increasing_id\n",
    "from pyspark.sql.types import StructType, StructField, StringType, IntegerType, DoubleType, TimestampType\n",
    "import time\n",
    "import glob\n",
    "import pandas as pd\n",
    "from schema import SONG_DATA_SCHEMA, LOG_DATA_SCHEMA"
   ]
  },
  {
   "cell_type": "code",
   "execution_count": 5,
   "metadata": {},
   "outputs": [],
   "source": [
    "def create_spark_session():\n",
    "    \"\"\"\n",
    "    Return a spark session by getting an existing or creating a new one\n",
    "    :return:\n",
    "    \"\"\"\n",
    "    spark = SparkSession \\\n",
    "        .builder \\\n",
    "        .appName(\"Spark SQL Quiz\") \\\n",
    "        .getOrCreate()\n",
    "    return spark"
   ]
  },
  {
   "cell_type": "code",
   "execution_count": 6,
   "metadata": {},
   "outputs": [],
   "source": [
    "spark = create_spark_session()"
   ]
  },
  {
   "cell_type": "code",
   "execution_count": 4,
   "metadata": {},
   "outputs": [
    {
     "data": {
      "text/html": [
       "\n",
       "            <div>\n",
       "                <p><b>SparkSession - in-memory</b></p>\n",
       "                \n",
       "        <div>\n",
       "            <p><b>SparkContext</b></p>\n",
       "\n",
       "            <p><a href=\"http://DESKTOP-A7K7LT7:4040\">Spark UI</a></p>\n",
       "\n",
       "            <dl>\n",
       "              <dt>Version</dt>\n",
       "                <dd><code>v3.2.0</code></dd>\n",
       "              <dt>Master</dt>\n",
       "                <dd><code>local[*]</code></dd>\n",
       "              <dt>AppName</dt>\n",
       "                <dd><code>Spark SQL Quiz</code></dd>\n",
       "            </dl>\n",
       "        </div>\n",
       "        \n",
       "            </div>\n",
       "        "
      ],
      "text/plain": [
       "<pyspark.sql.session.SparkSession at 0x180b9027648>"
      ]
     },
     "execution_count": 4,
     "metadata": {},
     "output_type": "execute_result"
    }
   ],
   "source": [
    "spark"
   ]
  },
  {
   "cell_type": "code",
   "execution_count": 7,
   "metadata": {},
   "outputs": [],
   "source": [
    "def get_files(filepath):\n",
    "    all_files = []\n",
    "    for root, dirs, files in os.walk(filepath):\n",
    "        files = glob.glob(os.path.join(root,'*.json'))\n",
    "        for f in files :\n",
    "            all_files.append(os.path.abspath(f))\n",
    "    \n",
    "    return all_files"
   ]
  },
  {
   "cell_type": "code",
   "execution_count": 31,
   "metadata": {},
   "outputs": [],
   "source": [
    "song_data = get_files('data/song_data')"
   ]
  },
  {
   "cell_type": "code",
   "execution_count": 32,
   "metadata": {},
   "outputs": [],
   "source": [
    "df = spark.read.json(song_data, schema=SONG_DATA_SCHEMA)"
   ]
  },
  {
   "cell_type": "code",
   "execution_count": 33,
   "metadata": {},
   "outputs": [
    {
     "data": {
      "text/plain": [
       "[Row(song_id='SOBAYLL12A8C138AF9', title='Sono andati? Fingevo di dormire', duration=511.16363, year=0, num_songs=1, artist_id='ARDR4AC1187FB371A1', artist_name='Montserrat Caballé;Placido Domingo;Vicente Sardinero;Judith Blegen;Sherrill Milnes;Georg Solti', artist_location='', artist_latitude=None, artist_longitude=None)]"
      ]
     },
     "execution_count": 33,
     "metadata": {},
     "output_type": "execute_result"
    }
   ],
   "source": [
    "df.head(1)"
   ]
  },
  {
   "cell_type": "code",
   "execution_count": 34,
   "metadata": {},
   "outputs": [],
   "source": [
    "songs_table = df.select('song_id', 'title', 'artist_id', 'artist_name', 'year', 'duration').distinct()"
   ]
  },
  {
   "cell_type": "code",
   "execution_count": 35,
   "metadata": {},
   "outputs": [
    {
     "data": {
      "text/plain": [
       "[Row(song_id='SOBAYLL12A8C138AF9', title='Sono andati? Fingevo di dormire', artist_id='ARDR4AC1187FB371A1', artist_name='Montserrat Caballé;Placido Domingo;Vicente Sardinero;Judith Blegen;Sherrill Milnes;Georg Solti', year=0, duration=511.16363)]"
      ]
     },
     "execution_count": 35,
     "metadata": {},
     "output_type": "execute_result"
    }
   ],
   "source": [
    "songs_table.head(1)"
   ]
  },
  {
   "cell_type": "code",
   "execution_count": 36,
   "metadata": {},
   "outputs": [
    {
     "name": "stdout",
     "output_type": "stream",
     "text": [
      "c:\\Users\\drggf\\Desktop\\Data_Engineering_Nanodegree\\Data-Lakes-with-Spark\n",
      "data/output_data/songs_table.parquet\n"
     ]
    }
   ],
   "source": [
    "import os\n",
    "currentDirectory = os.getcwd()\n",
    "print(currentDirectory)\n",
    "output_directory = currentDirectory + \"/data/output_data\"\n",
    "#print(output_directory)\n",
    "songs_output_file = \"data/output_data/\" + \"songs_table.parquet\"\n",
    "print(songs_output_file)\n",
    "songs_table.write.parquet(songs_output_file, \\\n",
    "                          mode=\"overwrite\", \\\n",
    "                          partitionBy=[\"year\", \"artist_id\"])\n",
    "#songs_table.write.parquet(\"songs_table.parquet\")\n",
    "\n",
    "#songs_table.write.parquet(\"data2\")"
   ]
  },
  {
   "cell_type": "code",
   "execution_count": 16,
   "metadata": {},
   "outputs": [],
   "source": [
    "# extract columns to create artists table\n",
    "artists_table = df.select(\n",
    "    \"artist_id\",\n",
    "    col(\"artist_name\").alias(\"name\"),\n",
    "    col(\"artist_location\").alias(\"location\"),\n",
    "    col(\"artist_latitude\").alias(\"latitude\"),\n",
    "    col(\"artist_longitude\").alias(\"longitude\")\n",
    "    ).drop_duplicates()"
   ]
  },
  {
   "cell_type": "code",
   "execution_count": 61,
   "metadata": {},
   "outputs": [
    {
     "data": {
      "text/plain": [
       "[Row(artist_id='ARPBNLO1187FB3D52F', name='Tiny Tim', location='New York, NY', latitude=40.71455, longitude=-74.00712)]"
      ]
     },
     "execution_count": 61,
     "metadata": {},
     "output_type": "execute_result"
    }
   ],
   "source": [
    "artists_table.head(1)"
   ]
  },
  {
   "cell_type": "code",
   "execution_count": 62,
   "metadata": {},
   "outputs": [],
   "source": [
    "artists_table.write.parquet(\"data/output_data/\" + \"artists_table.parquet\", mode=\"overwrite\")"
   ]
  },
  {
   "cell_type": "code",
   "execution_count": 3,
   "metadata": {},
   "outputs": [],
   "source": [
    "from schema import SONG_DATA_SCHEMA, LOG_DATA_SCHEMA"
   ]
  },
  {
   "cell_type": "code",
   "execution_count": 37,
   "metadata": {},
   "outputs": [],
   "source": [
    "log_data = get_files('data/log_data')"
   ]
  },
  {
   "cell_type": "code",
   "execution_count": 38,
   "metadata": {},
   "outputs": [],
   "source": [
    "df = spark.read.json(log_data, schema=LOG_DATA_SCHEMA)"
   ]
  },
  {
   "cell_type": "code",
   "execution_count": 39,
   "metadata": {},
   "outputs": [],
   "source": [
    "df = df.filter(col(\"page\") == \"NextSong\")"
   ]
  },
  {
   "cell_type": "code",
   "execution_count": 40,
   "metadata": {},
   "outputs": [
    {
     "data": {
      "text/plain": [
       "[Row(auth='Logged In', userId=None, registration=1541016707796.0, level='free', firstName='Ryan', lastName='Smith', gender='M', location='San Jose-Sunnyvale-Santa Clara, CA', sessionId=583, ts=1542241826796, page='NextSong', method='PUT', status=200, userAgent='\"Mozilla/5.0 (X11; Linux x86_64) AppleWebKit/537.36 (KHTML, like Gecko) Ubuntu Chromium/36.0.1985.125 Chrome/36.0.1985.125 Safari/537.36\"', itemInSession=0, artist='Harmonia', song='Sehr kosmisch', length=655.77751)]"
      ]
     },
     "execution_count": 40,
     "metadata": {},
     "output_type": "execute_result"
    }
   ],
   "source": [
    "df.head(1)"
   ]
  },
  {
   "cell_type": "code",
   "execution_count": 41,
   "metadata": {},
   "outputs": [],
   "source": [
    "get_datetime = udf(\n",
    "        lambda x: datetime.utcfromtimestamp(x / 1000),\n",
    "        TimestampType()\n",
    "    )"
   ]
  },
  {
   "cell_type": "code",
   "execution_count": 42,
   "metadata": {},
   "outputs": [],
   "source": [
    "get_timestamp = udf(lambda ts: datetime.utcfromtimestamp(ts / 1000.0).\n",
    "            strftime(\"%Y-%m-%d %H:%M:%S\"), \n",
    "            StringType()\n",
    "    )"
   ]
  },
  {
   "cell_type": "code",
   "execution_count": 49,
   "metadata": {},
   "outputs": [],
   "source": [
    "# df = df.withColumn('timestamp', get_timestamp(\"ts\"))"
   ]
  },
  {
   "cell_type": "code",
   "execution_count": 43,
   "metadata": {},
   "outputs": [],
   "source": [
    "df = df.withColumn(\"start_time\", get_datetime(\"ts\"))"
   ]
  },
  {
   "cell_type": "code",
   "execution_count": 44,
   "metadata": {},
   "outputs": [
    {
     "data": {
      "text/plain": [
       "[Row(auth='Logged In', userId=None, registration=1541016707796.0, level='free', firstName='Ryan', lastName='Smith', gender='M', location='San Jose-Sunnyvale-Santa Clara, CA', sessionId=583, ts=1542241826796, page='NextSong', method='PUT', status=200, userAgent='\"Mozilla/5.0 (X11; Linux x86_64) AppleWebKit/537.36 (KHTML, like Gecko) Ubuntu Chromium/36.0.1985.125 Chrome/36.0.1985.125 Safari/537.36\"', itemInSession=0, artist='Harmonia', song='Sehr kosmisch', length=655.77751, start_time=datetime.datetime(2018, 11, 15, 0, 30, 26, 796000))]"
      ]
     },
     "execution_count": 44,
     "metadata": {},
     "output_type": "execute_result"
    }
   ],
   "source": [
    "df.head(1)"
   ]
  },
  {
   "cell_type": "code",
   "execution_count": 66,
   "metadata": {},
   "outputs": [],
   "source": [
    "time_table = (\n",
    "        df\n",
    "        .withColumn(\"hour\", hour(\"start_time\"))\n",
    "        .withColumn(\"day\", dayofmonth(\"start_time\"))\n",
    "        .withColumn(\"week\", weekofyear(\"start_time\"))\n",
    "        .withColumn(\"month\", month(\"start_time\"))\n",
    "        .withColumn(\"year\", year(\"start_time\"))\n",
    "        .withColumn(\"weekday\", dayofweek(\"start_time\"))\n",
    "        .select(\n",
    "            \"start_time\",\n",
    "            \"hour\",\n",
    "            \"day\",\n",
    "            \"week\",\n",
    "            \"month\",\n",
    "            \"year\",\n",
    "            \"weekday\"\n",
    "        )\n",
    "        .drop_duplicates([\"year\", \"month\", \"day\", \"hour\"])\n",
    "    )"
   ]
  },
  {
   "cell_type": "code",
   "execution_count": 67,
   "metadata": {},
   "outputs": [
    {
     "data": {
      "text/plain": [
       "[Row(start_time=datetime.datetime(2018, 11, 21, 4, 0, 49, 796000), hour=4, day=21, week=47, month=11, year=2018, weekday=4)]"
      ]
     },
     "execution_count": 67,
     "metadata": {},
     "output_type": "execute_result"
    }
   ],
   "source": [
    "time_table.head(1)"
   ]
  },
  {
   "cell_type": "code",
   "execution_count": 57,
   "metadata": {},
   "outputs": [],
   "source": [
    "time_output_file = \"data/output_data/\" + \"time.parquet\""
   ]
  },
  {
   "cell_type": "code",
   "execution_count": 59,
   "metadata": {},
   "outputs": [],
   "source": [
    "time_table.write.parquet(\n",
    "        os.path.join(time_output_file, \"time_table.parquet\"),\n",
    "        mode=\"overwrite\",\n",
    "        partitionBy=[\"year\", \"month\"]\n",
    "    )"
   ]
  },
  {
   "cell_type": "code",
   "execution_count": 16,
   "metadata": {},
   "outputs": [],
   "source": [
    "output_data = \"data/output_data\"\n",
    "\n",
    "artists_df = spark.read.parquet(\n",
    "        os.path.join(output_data, \"artists_table.parquet\")\n",
    "    )\n",
    "    \n",
    "songs_df = spark.read.parquet(\n",
    "        os.path.join(output_data, \"songs_table.parquet\")\n",
    "    )"
   ]
  },
  {
   "cell_type": "code",
   "execution_count": 56,
   "metadata": {},
   "outputs": [],
   "source": [
    "songs = spark.read.parquet(\n",
    "        os.path.join(output_data, \"songs_table.parquet\")\n",
    "    )"
   ]
  },
  {
   "cell_type": "code",
   "execution_count": 57,
   "metadata": {},
   "outputs": [
    {
     "data": {
      "text/plain": [
       "[Row(song_id='SOBAYLL12A8C138AF9', title='Sono andati? Fingevo di dormire', artist_name='Montserrat Caballé;Placido Domingo;Vicente Sardinero;Judith Blegen;Sherrill Milnes;Georg Solti', duration=511.16363, year=0, artist_id='ARDR4AC1187FB371A1')]"
      ]
     },
     "execution_count": 57,
     "metadata": {},
     "output_type": "execute_result"
    }
   ],
   "source": [
    "songs.head(1)"
   ]
  },
  {
   "cell_type": "code",
   "execution_count": 58,
   "metadata": {},
   "outputs": [
    {
     "data": {
      "text/plain": [
       "[Row(auth='Logged In', userId=None, registration=1541016707796.0, level='free', firstName='Ryan', lastName='Smith', gender='M', location='San Jose-Sunnyvale-Santa Clara, CA', sessionId=583, ts=1542241826796, page='NextSong', method='PUT', status=200, userAgent='\"Mozilla/5.0 (X11; Linux x86_64) AppleWebKit/537.36 (KHTML, like Gecko) Ubuntu Chromium/36.0.1985.125 Chrome/36.0.1985.125 Safari/537.36\"', itemInSession=0, artist='Harmonia', song='Sehr kosmisch', length=655.77751, start_time=datetime.datetime(2018, 11, 15, 0, 30, 26, 796000))]"
      ]
     },
     "execution_count": 58,
     "metadata": {},
     "output_type": "execute_result"
    }
   ],
   "source": [
    "df.head(1)"
   ]
  },
  {
   "cell_type": "code",
   "execution_count": 59,
   "metadata": {},
   "outputs": [],
   "source": [
    "songplays_table = (\n",
    "        df\n",
    "        .join(songs, [\n",
    "            df.song == songs.title,\n",
    "            df.artist == songs.artist_name,\n",
    "            df.length == songs.duration\n",
    "        ], \"left\")\n",
    "    )"
   ]
  },
  {
   "cell_type": "code",
   "execution_count": 62,
   "metadata": {},
   "outputs": [],
   "source": [
    "songplays_table = (\n",
    "        songplays_table\n",
    "        .select(\n",
    "            monotonically_increasing_id().alias(\"songplay_id\"),\n",
    "            \"start_time\",\n",
    "            col(\"userID\").alias(\"user_id\"),\n",
    "            \"level\",\n",
    "            \"song_id\",\n",
    "            \"artist_id\",\n",
    "            col(\"sessionId\").alias(\"session_id\"),\n",
    "            \"location\",\n",
    "            col(\"userAgent\").alias(\"user_agent\"),\n",
    "            month(\"start_time\").alias(\"month\"),\n",
    "            year(\"start_time\").alias(\"year\")\n",
    "        )\n",
    "    )"
   ]
  },
  {
   "cell_type": "code",
   "execution_count": 63,
   "metadata": {},
   "outputs": [
    {
     "data": {
      "text/plain": [
       "[Row(songplay_id=0, start_time=datetime.datetime(2018, 11, 15, 0, 30, 26, 796000), user_id=None, level='free', song_id=None, artist_id=None, session_id=583, location='San Jose-Sunnyvale-Santa Clara, CA', user_agent='\"Mozilla/5.0 (X11; Linux x86_64) AppleWebKit/537.36 (KHTML, like Gecko) Ubuntu Chromium/36.0.1985.125 Chrome/36.0.1985.125 Safari/537.36\"', month=11, year=2018)]"
      ]
     },
     "execution_count": 63,
     "metadata": {},
     "output_type": "execute_result"
    }
   ],
   "source": [
    "songplays_table.head(1)"
   ]
  }
 ],
 "metadata": {
  "interpreter": {
   "hash": "d344b0b44ed74f5219ec8dab31a9f3e764b5e17a5cf2d9830ceefda51f994047"
  },
  "kernelspec": {
   "display_name": "Python 3.7.9 64-bit ('tensorflow': conda)",
   "name": "python3"
  },
  "language_info": {
   "codemirror_mode": {
    "name": "ipython",
    "version": 3
   },
   "file_extension": ".py",
   "mimetype": "text/x-python",
   "name": "python",
   "nbconvert_exporter": "python",
   "pygments_lexer": "ipython3",
   "version": "3.7.9"
  },
  "orig_nbformat": 4
 },
 "nbformat": 4,
 "nbformat_minor": 2
}
